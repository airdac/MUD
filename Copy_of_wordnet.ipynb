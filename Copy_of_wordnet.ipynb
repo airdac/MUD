{
  "nbformat": 4,
  "nbformat_minor": 0,
  "metadata": {
    "colab": {
      "provenance": [],
      "include_colab_link": true
    },
    "kernelspec": {
      "name": "python3",
      "display_name": "Python 3"
    },
    "language_info": {
      "name": "python"
    }
  },
  "cells": [
    {
      "cell_type": "markdown",
      "metadata": {
        "id": "view-in-github",
        "colab_type": "text"
      },
      "source": [
        "<a href=\"https://colab.research.google.com/github/airdac/MUD/blob/main/Copy_of_wordnet.ipynb\" target=\"_parent\"><img src=\"https://colab.research.google.com/assets/colab-badge.svg\" alt=\"Open In Colab\"/></a>"
      ]
    },
    {
      "cell_type": "code",
      "source": [
        "# -----------------------------------------------------------------------------------\n",
        "# 1. Introduction to NLP and WordNet\n",
        "# -----------------------------------------------------------------------------------\n",
        "print(\"Welcome to the NLP and WordNet Introduction Lab!\")"
      ],
      "metadata": {
        "id": "Ulasnnr8nius"
      },
      "execution_count": null,
      "outputs": []
    },
    {
      "cell_type": "code",
      "source": [
        "# First, let's install the necessary libraries\n",
        "!pip install nltk gensim\n",
        "\n",
        "# Import the necessary libraries\n",
        "import nltk\n",
        "from nltk.corpus import wordnet as wn\n",
        "from gensim.models.doc2vec import Doc2Vec, TaggedDocument\n",
        "from nltk.tokenize import word_tokenize\n",
        "import numpy as np\n",
        "from scipy.spatial import distance\n",
        "from sklearn.metrics import jaccard_score\n",
        "from sklearn.feature_extraction.text import CountVectorizer\n",
        "\n",
        "# Download necessary datasets from NLTK\n",
        "nltk.download('wordnet')\n",
        "nltk.download('omw-1.4')\n",
        "nltk.download('punkt')  # for tokenization"
      ],
      "metadata": {
        "id": "ZXsSzO-ZnEFI"
      },
      "execution_count": null,
      "outputs": []
    },
    {
      "cell_type": "markdown",
      "source": [
        "**Note:** Below shows a table of attribute and their definitions on wordnet.[ref1](https://wordnet.princeton.edu) [/ref2](https://opensource.com/article/20/8/nlp-python-nltk)\n",
        "\n",
        "| Attribute   | Definition                                                                                             | Example                                                                                                                                                                   | Code Example                                                                                          |\n",
        "|-------------|--------------------------------------------------------------------------------------------------------|---------------------------------------------------------------------------------------------------------------------------------------------------------------------------|------------------------------------------------------------------------------------------------------|\n",
        "| Name        | Name of the synset                                                                                     | Example: The word \"code\" has five synsets with names code.n.01, code.n.02, code.n.03, code.v.01, code.v.02                                                                | `synset.name()`                                                                                      |\n",
        "| POS         | Part of speech of the word for this synset                                                             | The word \"code\" has three synsets in noun form and two in verb form                                                                                                       | `synset.pos()`                                                                                       |\n",
        "| Definition  | Definition of the word (in POS)                                                                        | One of the definitions of \"code\" in verb form is: \"(computer science) the symbolic...\"                             | `synset.definition()`                                                                                |\n",
        "| Examples    | Examples of word's use                                                                                 | One of the examples of \"code\": \"We should encode the message for security reasons\"                                                                                        | `synset.examples()`                                                                                  |\n",
        "| Lemmas      | Other word synsets this word+POC is related to (not strictly synonyms, but can be considered so);...   | Lemmas of code.v.02 (as in \"convert ordinary language into code\") are code.v.02.encipher, code.v.02.cipher,... | `synset.lemmas()`                                                                                    |\n",
        "| Antonyms    | Opposites                                                                                              | Antonym of lemma encode.v.01.encode is decode.v.01.decode                                                                                                                 | `[lemma.antonyms() for lemma in synset.lemmas() if len(lemma.antonyms()) > 0]`                        |\n",
        "| Hypernym    | A broad category that other words fall under                                                           | A hypernym of code.v.01 (as in \"Code the pieces with numbers so that you can identify them later\") is tag.v.01                                                           | `synset.hypernyms()`                                                                                 |\n",
        "| Meronym     | A word that is part of (or subordinate to) a broad category                                            | A meronym of \"computer\" is \"chip\"                                                                                                                                         | `synset.part_meronyms()`                                                                             |\n",
        "| Holonym     | The relationship between a parent word and its subordinate parts                                       | A hyponym of \"window\" is \"computer screen\"                                                                                                                                | `synset.part_holonyms()`                                                                             |\n"
      ],
      "metadata": {
        "id": "8mKfSm8QtTnK"
      }
    },
    {
      "cell_type": "markdown",
      "source": [
        "**Note:** A \"synset\" is a single group of synonyms representing one meaning of a word or phrase, while \"synsets\" refer to the full set of these groups that a word can belong to, representing all the possible meanings of the word as organized in WordNet."
      ],
      "metadata": {
        "id": "bUMs3sCrwfB-"
      }
    },
    {
      "cell_type": "code",
      "source": [
        "# -----------------------------------------------------------------------------------\n",
        "# 2. Exploring WordNet with NLTK\n",
        "# -----------------------------------------------------------------------------------\n"
      ],
      "metadata": {
        "id": "__jCiRQ0xv_3"
      },
      "execution_count": null,
      "outputs": []
    },
    {
      "cell_type": "code",
      "source": [
        "## Let's find out what synsets the word 'dog' has\n",
        "## Accessing synsets\n",
        "dog_synsets = wn.synsets('dog')\n",
        "print(\"\\nSynsets for 'dog':\", dog_synsets)\n",
        "## a synset comes within a synset id (f.g. 'dog.n.01' ) which refers to the specific sense of that word. A word could have several senses and synsets."
      ],
      "metadata": {
        "id": "np4hueOewEpO"
      },
      "execution_count": null,
      "outputs": []
    },
    {
      "cell_type": "code",
      "source": [
        "synset = wn.synset('dog.n.01')"
      ],
      "metadata": {
        "id": "hY9J_Ngkur8O"
      },
      "execution_count": null,
      "outputs": []
    },
    {
      "cell_type": "code",
      "source": [
        "## Let's build a function to print the Attribute table information for a synset.\n",
        "#TODO: fill the \"fill in\" parts\n",
        "def synset_info(synset):\n",
        "    print(\"Name\", synset.name())\n",
        "    print(\"POS:\", synset.pos())\n",
        "    print(\"Definition:\", \"to fill in .......\")\n",
        "    print(\"Examples:\", \"to fill in .......\")\n",
        "    print(\"Lemmas:\", \"to fill in .......\")\n",
        "    print(\"Antonyms:\", \"to fill in .......\")\n",
        "    print(\"Hypernyms:\", \"to fill in .......\")\n",
        "    print(\"Part Holonyms:\", \"to fill in .......\")\n",
        "    print(\"Part Meronyms:\", \"to fill in .......\")"
      ],
      "metadata": {
        "id": "J0tGm94CuqoQ"
      },
      "execution_count": null,
      "outputs": []
    },
    {
      "cell_type": "code",
      "source": [
        "synset_info(synset)"
      ],
      "metadata": {
        "id": "8rsKWj3VeG93"
      },
      "execution_count": null,
      "outputs": []
    },
    {
      "cell_type": "code",
      "source": [
        "## We found the synsets ids of the word 'dog' . Now we can find the synset of each synset id."
      ],
      "metadata": {
        "id": "5FM9xbhR05HZ"
      },
      "execution_count": null,
      "outputs": []
    },
    {
      "cell_type": "code",
      "source": [
        "## TODO: Find synsets for 'cat'\n",
        "# Uncomment the lines below and fill in the blank\n",
        "# cat_synsets = wn.synsets('____')\n",
        "# print(\"\\nSynsets for 'cat':\", cat_synsets)\n",
        "\n",
        "## TODO: Find the synset_info() of the a selected synset id from 'cat'\n"
      ],
      "metadata": {
        "id": "MVJIRZonnHc1"
      },
      "execution_count": null,
      "outputs": []
    },
    {
      "cell_type": "code",
      "source": [
        "## Exploring word hierarchies (Hypernyms and Hyponyms)\n",
        "#Build a function to print out the hypernyms and hyponyms of the synsets of the word 'dog' through a loop\n",
        "\n",
        "def print_hypernyms(input_word):\n",
        "  word_synsets = wn.synsets(input_word)\n",
        "  for synset in word_synsets:\n",
        "    #sysnet = ...\n",
        "    #print(\"\\nHypernyms of ',input_word, dog.hypernyms())\n",
        "    #to be filled ...\n",
        "    pass\n",
        "\n",
        "def print_hyponyms(input_word):\n",
        "  word_synsets = wn.synsets(input_word)\n",
        "  #to be filled...\n",
        "  pass\n",
        "\n",
        "\n",
        "## TODO: Explore hypernyms and hyponyms for 'cat'\n",
        "# Replace 'dog' with 'cat' in the example above and explore\n",
        "#Todo, redo the functions above for the word 'cat'"
      ],
      "metadata": {
        "id": "X7anpRI7dXK-"
      },
      "execution_count": null,
      "outputs": []
    },
    {
      "cell_type": "code",
      "source": [
        "##EXTRA PART\n",
        "##The WordNet corpus reader gives access to the Open Multilingual WordNet,\n",
        "##using ISO-639 language codes. These languages are not loaded by default, but only lazily, when needed.\n",
        "wn.synsets(b'\\xe7\\x8a\\xac'.decode('utf-8'), lang='jpn')"
      ],
      "metadata": {
        "id": "W-M8MN8ycl0J"
      },
      "execution_count": null,
      "outputs": []
    },
    {
      "cell_type": "code",
      "source": [
        "## Lets see the lemma names of spy in japanese\n",
        "wn.synset('spy.n.01').lemma_names('jpn')"
      ],
      "metadata": {
        "id": "q5EQ1d9AcsMm"
      },
      "execution_count": null,
      "outputs": []
    },
    {
      "cell_type": "code",
      "source": [
        "## We can print to see which languages the wordnet object has\n",
        "sorted(wn.langs())"
      ],
      "metadata": {
        "id": "6ih_-KTadARj"
      },
      "execution_count": null,
      "outputs": []
    },
    {
      "cell_type": "code",
      "source": [
        "## Let's see what is the lemma names of 'dog' first sense in italian\n",
        "wn.synset('dog.n.01').lemma_names('ita')"
      ],
      "metadata": {
        "id": "2QcDsPiCdNE0"
      },
      "execution_count": null,
      "outputs": []
    },
    {
      "cell_type": "code",
      "source": [
        "## Now we can search for the lemmas of cane in italian\n",
        "wn.lemmas('cane', lang='ita')"
      ],
      "metadata": {
        "id": "hr-r8KRNdgXT"
      },
      "execution_count": null,
      "outputs": []
    },
    {
      "cell_type": "code",
      "source": [
        "## we can search for the synonyms of the words as well, in the same or another language!\n",
        "## synonyms of car in english\n",
        "en_synonyms = wn.synonyms('car')\n",
        "print(\"Synonyms of the word car in en language: \",en_synonyms)\n",
        "\n",
        "es_synonyms = wn.synonyms('coche', lang='spa')\n",
        "\n",
        "print(\"Synonyms of the word coche in es language: \",es_synonyms)"
      ],
      "metadata": {
        "id": "Z3ss3nKRdofp"
      },
      "execution_count": null,
      "outputs": []
    },
    {
      "cell_type": "code",
      "source": [
        "##TODO try it with antonyms (e.g. - > antonyms())\n",
        "## Write your code here"
      ],
      "metadata": {
        "id": "NTOoVaEleJPS"
      },
      "execution_count": null,
      "outputs": []
    },
    {
      "cell_type": "code",
      "source": [
        "\n",
        "\n",
        "# -----------------------------------------------------------------------------------\n",
        "# 3. Computing Semantic Similarity Between Words\n",
        "# -----------------------------------------------------------------------------------\n"
      ],
      "metadata": {
        "id": "00P_gEjZnJH_"
      },
      "execution_count": null,
      "outputs": []
    },
    {
      "cell_type": "code",
      "source": [
        "## Path similarity\n",
        "dog = wn.synset('dog.n.01')\n",
        "cat = wn.synset('cat.n.01')\n",
        "print(\"\\nPath similarity between 'dog' and 'cat':\", dog.path_similarity(cat))\n",
        "\n",
        "## TODO: Compute Wu-Palmer similarity between 'dog' and 'cat'\n",
        "# Uncomment the lines below and fill in the blank\n",
        "# print(\"Wu-Palmer similarity between 'dog' and 'cat':\", dog.wup_similarity(cat))"
      ],
      "metadata": {
        "id": "q_3Y7ms3iX35"
      },
      "execution_count": null,
      "outputs": []
    },
    {
      "cell_type": "code",
      "source": [
        "##Comparing similarities is a fundamental process used to identify commonalities between two text segments.\n",
        "##This technique is widely applied in various domains, including search engines, chatbots, and beyond,\n",
        "##serving as a crucial component for enhancing user interactions and information retrieval.\n",
        "\n",
        "syn1 = wn.synsets('football')\n",
        "syn2 = wn.synsets('soccer')\n",
        "\n",
        "# A word may have multiple synsets, so need to compare each synset of word1 with synset of word2\n",
        "for s1 in syn1:\n",
        "    for s2 in syn2:\n",
        "        print(\"Path similarity of: \")\n",
        "        print(s1, '(', s1.pos(), ')', '[', s1.definition(), ']')\n",
        "        print(s2, '(', s2.pos(), ')', '[', s2.definition(), ']')\n",
        "        print(\"   is\", s1.path_similarity(s2))\n",
        "        print()\n",
        "\n",
        "##Todo: write a function to recieve two words and perform the similarities of their synsets. Try it with 'king' 'queen' , 'car' 'engine' , 'good' 'bad' and 'black' 'white'.\n",
        "\n",
        "##..... write it here below (hint, you can use the above code to produce this function!)"
      ],
      "metadata": {
        "id": "qzQjr7Zi3Ti1"
      },
      "execution_count": null,
      "outputs": []
    },
    {
      "cell_type": "code",
      "source": [
        "print(\"\\n-- Document Similarity Based on WordNet Synsets --\")\n",
        "\n",
        "## Introduction to computing document similarity using WordNet\n",
        "## Example and Practice: Define a function to compute the similarity between two documents\n",
        "def document_similarity(doc1, doc2):\n",
        "    \"\"\"\n",
        "    Compute document similarity using WordNet synset similarities for pairs of words.\n",
        "    \"\"\"\n",
        "    synsets1 = [wn.synsets(word) for word in nltk.word_tokenize(doc1)]\n",
        "    synsets2 = [wn.synsets(word) for word in nltk.word_tokenize(doc2)]\n",
        "\n",
        "    # Flatten the list of synsets and filter out None\n",
        "    synsets1 = [ss for sublist in synsets1 for ss in sublist if ss]\n",
        "    synsets2 = [ss for sublist in synsets2 for ss in sublist if ss]\n",
        "\n",
        "    score, count = 0.0, 0\n",
        "\n",
        "    # For each synset in both documents, find the maximum similarity value\n",
        "    for synset1 in synsets1:\n",
        "        max_score = max([synset1.path_similarity(synset2) or 0 for synset2 in synsets2])\n",
        "        if max_score > 0:\n",
        "            score += max_score\n",
        "            count += 1\n",
        "\n",
        "    # Average the scores\n",
        "    score /= count\n",
        "    return score\n",
        "\n",
        "\n"
      ],
      "metadata": {
        "id": "uSK-3EWEnKZF"
      },
      "execution_count": null,
      "outputs": []
    },
    {
      "cell_type": "code",
      "source": [
        "## Test the function with two simple documents\n",
        "doc1 = \"Dogs are awesome.\"\n",
        "doc2 = \"Cats are amazing.\"\n",
        "print(\"Document similarity:\", document_similarity(doc1, doc2))\n",
        "\n",
        "# -----------------------------------------------------------------------------------\n",
        "# Wrap-up and Q&A\n",
        "# -----------------------------------------------------------------------------------\n",
        "print(\"\\nThank you for participating in the lab! Feel free to experiment with the code and explore further. If you have any questions, now is a great time to ask.\")\n"
      ],
      "metadata": {
        "id": "PHh7P_bNhqXp"
      },
      "execution_count": null,
      "outputs": []
    },
    {
      "cell_type": "code",
      "source": [
        "##Todo : Try to find the similarities of more documents. does it work for a text with multiple sentences?"
      ],
      "metadata": {
        "id": "B43z1yc_hrqj"
      },
      "execution_count": null,
      "outputs": []
    }
  ]
}